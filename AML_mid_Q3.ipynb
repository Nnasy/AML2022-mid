{
  "nbformat": 4,
  "nbformat_minor": 0,
  "metadata": {
    "colab": {
      "name": "AML-mid Q3.ipynb",
      "provenance": [],
      "collapsed_sections": []
    },
    "kernelspec": {
      "name": "python3",
      "display_name": "Python 3"
    },
    "language_info": {
      "name": "python"
    }
  },
  "cells": [
    {
      "cell_type": "markdown",
      "metadata": {
        "id": "9chhWc7rED2V"
      },
      "source": [
        "# Problem 3"
      ]
    },
    {
      "cell_type": "code",
      "metadata": {
        "id": "GSdaa2W0EIRY",
        "outputId": "bd0016a1-6f0e-4086-8133-3c3c941f676f",
        "colab": {
          "base_uri": "https://localhost:8080/",
          "height": 283
        }
      },
      "source": [
        "# requirement\n",
        "import numpy as np\n",
        "import matplotlib.pyplot as plt\n",
        "import cvxpy as cv\n",
        "\n",
        "# prepare dataset\n",
        "n = 40\n",
        "omega = np.random.randn()\n",
        "noise = 0.8 * np.random.randn(n)\n",
        "\n",
        "x = np.random.randn(n, 2) + 0\n",
        "y = 2 * (omega * x[:,0] + x[:,1] + noise > 0) - 1\n",
        "\n",
        "plt.plot(np.extract(y>0,x[:,0]),np.extract(y>0,x[:,1]), 'x')\n",
        "plt.plot(np.extract(y<0,x[:,0]),np.extract(y<0,x[:,1]), 'o')"
      ],
      "execution_count": 106,
      "outputs": [
        {
          "output_type": "execute_result",
          "data": {
            "text/plain": [
              "[<matplotlib.lines.Line2D at 0x7fd16eb8da10>]"
            ]
          },
          "metadata": {},
          "execution_count": 106
        },
        {
          "output_type": "display_data",
          "data": {
            "text/plain": [
              "<Figure size 432x288 with 1 Axes>"
            ],
            "image/png": "[encoded data removed]"
          },
          "metadata": {
            "needs_background": "light"
          }
        }
      ]
    },
    {
      "cell_type": "code",
      "source": [
        "def update_a(a):\n",
        "  a = a - eta*(K@a/(2*lam) - np.ones([len(a),1]))\n",
        "  for i in range(len(a)):\n",
        "    if a[i] >= 1:\n",
        "      a[i]=1\n",
        "    if a[i]<0:\n",
        "      a[i]=0\n",
        "  return a"
      ],
      "metadata": {
        "id": "1SmwHEw3bebI"
      },
      "execution_count": 107,
      "outputs": []
    },
    {
      "cell_type": "code",
      "source": [
        "def hinge_loss(w):\n",
        "  loss = lam * w.T@w\n",
        "  for i in range(n):\n",
        "    loss += max(0, 1-y[i]*w.T@x[i])\n",
        "  return loss"
      ],
      "metadata": {
        "id": "W_XyH-3mirPy"
      },
      "execution_count": 108,
      "outputs": []
    },
    {
      "cell_type": "code",
      "source": [
        "def w_hat(a):\n",
        "  w = 0\n",
        "  for i in range(n):\n",
        "    w += a[i]*y[i]*x[i]\n",
        "  w /= 2*lam\n",
        "  return w"
      ],
      "metadata": {
        "id": "i60F3YWGvssv"
      },
      "execution_count": 109,
      "outputs": []
    },
    {
      "cell_type": "code",
      "source": [
        "def make_gram_matrix(x,y):\n",
        "  X = np.array([y,y]).T*x\n",
        "  return X@X.T"
      ],
      "metadata": {
        "id": "-JC6KZaPdj6k"
      },
      "execution_count": 110,
      "outputs": []
    },
    {
      "cell_type": "code",
      "source": [
        "def make_eta(mat):\n",
        "  L = np.max(np.linalg.eig(2*mat)[0])\n",
        "  return 1/L"
      ],
      "metadata": {
        "id": "4SF9VL-ug5bU"
      },
      "execution_count": 111,
      "outputs": []
    },
    {
      "cell_type": "code",
      "source": [
        "def Lagrange_dual_func(a):\n",
        "  return (-1/(4*lam)*a.T@K@a+sum(a)).squeeze().item()"
      ],
      "metadata": {
        "id": "o79YWXS1hN7f"
      },
      "execution_count": 112,
      "outputs": []
    },
    {
      "cell_type": "code",
      "metadata": {
        "id": "PuA6fscyEhjC"
      },
      "source": [
        "a = np.zeros([n,1])\n",
        "K = make_gram_matrix(x,y)\n",
        "lam = 2\n",
        "eta = make_eta(K)\n",
        "num_iter = 200\n",
        "lag_hist = []\n",
        "loss_hist_hinge = []\n",
        "for i in range(1, num_iter+1):\n",
        "  a = update_a(a)\n",
        "  w = w_hat(a)\n",
        "  lag_hist.append(Lagrange_dual_func(a))\n",
        "  loss_hist_hinge.append(hinge_loss(w))"
      ],
      "execution_count": 113,
      "outputs": []
    },
    {
      "cell_type": "code",
      "source": [
        "plt.plot(lag_hist, 'bo-', linewidth=0.5, markersize=0.5, label='dual Lagrange function')\n",
        "plt.legend()\n",
        "plt.xlabel('iter')\n",
        "plt.ylabel('dual Lagrange')"
      ],
      "metadata": {
        "colab": {
          "base_uri": "https://localhost:8080/",
          "height": 333
        },
        "id": "kx4GS9BVyi61",
        "outputId": "5de376ab-3ad1-4c2d-c89c-534d9f96ecc0"
      },
      "execution_count": 114,
      "outputs": [
        {
          "output_type": "stream",
          "name": "stderr",
          "text": [
            "/usr/local/lib/python3.7/dist-packages/matplotlib/cbook/__init__.py:1317: ComplexWarning: Casting complex values to real discards the imaginary part\n",
            "  return np.asarray(x, float)\n"
          ]
        },
        {
          "output_type": "execute_result",
          "data": {
            "text/plain": [
              "Text(0, 0.5, 'dual Lagrange')"
            ]
          },
          "metadata": {},
          "execution_count": 114
        },
        {
          "output_type": "display_data",
          "data": {
            "text/plain": [
              "<Figure size 432x288 with 1 Axes>"
            ],
            "image/png": "[encoded data removed]"
          },
          "metadata": {
            "needs_background": "light"
          }
        }
      ]
    },
    {
      "cell_type": "code",
      "source": [
        "plt.plot(loss_hist_hinge, 'bo-', linewidth=0.5, markersize=0.5, label='sum of hinge loss function and the regularization')\n",
        "plt.legend()\n",
        "plt.xlabel('iter')\n",
        "plt.ylabel('loss')"
      ],
      "metadata": {
        "colab": {
          "base_uri": "https://localhost:8080/",
          "height": 333
        },
        "id": "5UlPjclPyjOG",
        "outputId": "b55eb761-378f-497b-dfeb-46040c7330d2"
      },
      "execution_count": 115,
      "outputs": [
        {
          "output_type": "stream",
          "name": "stderr",
          "text": [
            "/usr/local/lib/python3.7/dist-packages/matplotlib/cbook/__init__.py:1317: ComplexWarning: Casting complex values to real discards the imaginary part\n",
            "  return np.asarray(x, float)\n"
          ]
        },
        {
          "output_type": "execute_result",
          "data": {
            "text/plain": [
              "Text(0, 0.5, 'loss')"
            ]
          },
          "metadata": {},
          "execution_count": 115
        },
        {
          "output_type": "display_data",
          "data": {
            "text/plain": [
              "<Figure size 432x288 with 1 Axes>"
            ],
            "image/png": "[encoded data removed]"
          },
          "metadata": {
            "needs_background": "light"
          }
        }
      ]
    },
    {
      "cell_type": "code",
      "source": [
        "gap = []\n",
        "for i in range(num_iter):\n",
        "  gap.append(abs(loss_hist_hinge[i]-lag_hist[i]))\n",
        "plt.plot(gap, 'bo-', linewidth=0.5, markersize=0.5, label='gap')\n",
        "plt.legend()\n",
        "plt.xlabel('iter')\n",
        "plt.ylabel('gap')"
      ],
      "metadata": {
        "colab": {
          "base_uri": "https://localhost:8080/",
          "height": 297
        },
        "id": "Rvam--Y8tsUN",
        "outputId": "aaaada1b-ff32-4dfd-aa6c-3c54c4234ad7"
      },
      "execution_count": 116,
      "outputs": [
        {
          "output_type": "execute_result",
          "data": {
            "text/plain": [
              "Text(0, 0.5, 'gap')"
            ]
          },
          "metadata": {},
          "execution_count": 116
        },
        {
          "output_type": "display_data",
          "data": {
            "text/plain": [
              "<Figure size 432x288 with 1 Axes>"
            ],
            "image/png": "[encoded data removed]"
          },
          "metadata": {
            "needs_background": "light"
          }
        }
      ]
    }
  ]
}
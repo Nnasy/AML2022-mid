{
  "nbformat": 4,
  "nbformat_minor": 0,
  "metadata": {
    "colab": {
      "name": "AML-mid Q1.ipynb",
      "provenance": [],
      "collapsed_sections": []
    },
    "kernelspec": {
      "name": "python3",
      "display_name": "Python 3"
    },
    "language_info": {
      "name": "python"
    }
  },
  "cells": [
    {
      "cell_type": "markdown",
      "metadata": {
        "id": "IrhDZAmp8DlM"
      },
      "source": [
        "# Problem 1"
      ]
    },
    {
      "cell_type": "code",
      "metadata": {
        "id": "xONF7HSY8B_R"
      },
      "source": [
        "# requirement\n",
        "import numpy as np\n",
        "import matplotlib.pyplot as plt\n",
        "import cvxpy"
      ],
      "execution_count": 16,
      "outputs": []
    },
    {
      "cell_type": "code",
      "metadata": {
        "id": "nw9srB9Q8gsO"
      },
      "source": [
        "# dataset 4\n",
        "n = 200\n",
        "np.random.seed(1234)\n",
        "x_d4 = 3 * (np.random.rand(n, 4) - 0.5)\n",
        "y_d4 = (2 * x_d4[:, 0] - 1 * x_d4[:,1] + 0.5 + 0.5 * np.random.randn(n)) > 0\n",
        "y_d4 = 2 * y_d4 -1\n",
        "\n",
        "x_d4 = np.concatenate([np.ones([n,1]), x_d4],1) # x_i contains 1"
      ],
      "execution_count": 17,
      "outputs": []
    },
    {
      "cell_type": "code",
      "source": [
        "# params\n",
        "lr = 0.01\n",
        "lam = 2\n",
        "num_iter = 50"
      ],
      "metadata": {
        "id": "2w9v7Au-CcRl"
      },
      "execution_count": 18,
      "outputs": []
    },
    {
      "cell_type": "code",
      "source": [
        "def J(w_t):\n",
        "  J = lam*w_t@w_t.T\n",
        "  for i in range(n):\n",
        "    J += np.log(1 + np.exp(-y_d4[i] * w_t@x_d4[i].T))\n",
        "  return J\n",
        "\n",
        "def dJ(w_t):\n",
        "  dJ = 2*lam*w_t\n",
        "  for i in range(n):\n",
        "    post = 1 / (1 + np.exp(-y_d4[i] * w_t @ x_d4[i].T))\n",
        "    dJ += (post-1)*y_d4[i]*x_d4[i]\n",
        "  return dJ\n",
        "\n",
        "def d2J(w_t):\n",
        "  d2J = 2*lam*np.ones([5,5])\n",
        "  for i in range(n):\n",
        "    post = 1 / (1 + np.exp(-y_d4[i] * w_t @ x_d4[i].T))\n",
        "    d2J += post*(1-post)*(x_d4[i].reshape(5,1)@x_d4[i].reshape(1,5))\n",
        "  return d2J"
      ],
      "metadata": {
        "id": "S_i_gJxpChoZ"
      },
      "execution_count": 19,
      "outputs": []
    },
    {
      "cell_type": "code",
      "source": [
        "loss_hist_batch = [] # to store the history of loss J(w_t)\n",
        "\n",
        "# implement batch steepest gradient method here\n",
        "w=np.ones(5)\n",
        "for t in range(num_iter):\n",
        "  loss = J(w)\n",
        "  dj = dJ(w)\n",
        "  loss_hist_batch.append(loss)\n",
        "  w -= lr*dj"
      ],
      "metadata": {
        "id": "gkIt4OPHWurI"
      },
      "execution_count": 20,
      "outputs": []
    },
    {
      "cell_type": "code",
      "source": [
        "loss_hist_newton = [] # to store the history of loss J(w_t)\n",
        "\n",
        "# implement Newton based method here\n",
        "w=np.ones(5)\n",
        "for t in range(num_iter):\n",
        "  loss = J(w)\n",
        "  dj = dJ(w)\n",
        "  d2j = d2J(w)\n",
        "  loss_hist_newton.append(loss)\n",
        "  w -= np.linalg.inv(d2j)@dj"
      ],
      "metadata": {
        "id": "Z3VpCwONdw2F"
      },
      "execution_count": 21,
      "outputs": []
    },
    {
      "cell_type": "code",
      "source": [
        "# plot the result of loss\n",
        "plt.plot(loss_hist_batch, 'bo-', linewidth=0.5, markersize=0.5, label='steepest')\n",
        "plt.plot(loss_hist_newton, 'ro-', linewidth=0.5, markersize=0.5, label='newton')\n",
        "plt.legend()\n",
        "plt.xlabel('iter')\n",
        "plt.ylabel('loss')"
      ],
      "metadata": {
        "colab": {
          "base_uri": "https://localhost:8080/",
          "height": 297
        },
        "id": "oyzFBx_BDOv2",
        "outputId": "3cc8f8e9-b882-44bf-ae1e-0717d813297e"
      },
      "execution_count": 22,
      "outputs": [
        {
          "output_type": "execute_result",
          "data": {
            "text/plain": [
              "Text(0, 0.5, 'loss')"
            ]
          },
          "metadata": {},
          "execution_count": 22
        },
        {
          "output_type": "display_data",
          "data": {
            "text/plain": [
              "<Figure size 432x288 with 1 Axes>"
            ],
            "image/png": "[encoded data removed]"
          },
          "metadata": {
            "needs_background": "light"
          }
        }
      ]
    },
    {
      "cell_type": "code",
      "metadata": {
        "id": "p1dl5DU_9p5m",
        "colab": {
          "base_uri": "https://localhost:8080/",
          "height": 283
        },
        "outputId": "69f58d84-5c9f-49a8-e9fe-8fde3de759a1"
      },
      "source": [
        "# plot the result of diff\n",
        "loss_hat = min(loss_hist_batch[-1], loss_hist_newton[-1])\n",
        "plt.plot(abs(loss_hist_batch-loss_hat), 'bo-', linewidth=0.5, markersize=0.5, label='steepest')\n",
        "plt.plot(abs(loss_hist_newton-loss_hat), 'ro-', linewidth=0.5, markersize=0.5, label='newton')\n",
        "plt.legend()\n",
        "plt.yscale('log')\n",
        "plt.ylim([1e-12,1e+3])"
      ],
      "execution_count": 23,
      "outputs": [
        {
          "output_type": "execute_result",
          "data": {
            "text/plain": [
              "(1e-12, 1000.0)"
            ]
          },
          "metadata": {},
          "execution_count": 23
        },
        {
          "output_type": "display_data",
          "data": {
            "text/plain": [
              "<Figure size 432x288 with 1 Axes>"
            ],
            "image/png": "[encoded data removed]"
          },
          "metadata": {
            "needs_background": "light"
          }
        }
      ]
    },
    {
      "cell_type": "markdown",
      "source": [
        "# multiclass"
      ],
      "metadata": {
        "id": "5X-i2EZXrqOo"
      }
    },
    {
      "cell_type": "code",
      "source": [
        "# dataset 5\n",
        "n = 200\n",
        "np.random.seed(seed=32)\n",
        "x_d5 = 3 * (np.random.rand(n, 4) - 0.5)\n",
        "W = np.array([[ 2,  -1, 0.5,],\n",
        "              [-3,   2,   1,],\n",
        "              [ 1,   2,   3]])\n",
        "y_d5 = np.argmax(np.dot(np.hstack([x_d5[:,:2], np.ones((n, 1))]), W.T)\n",
        "                        + 0.5 * np.random.randn(n, 3), axis=1)\n",
        "\n",
        "x_d5 = np.concatenate([np.ones([n,1]), x_d5],1) # x_i contains 1"
      ],
      "metadata": {
        "id": "DzTwbYgiruox"
      },
      "execution_count": 24,
      "outputs": []
    },
    {
      "cell_type": "code",
      "source": [
        "# params\n",
        "lam = 1.5\n",
        "lr = 0.1\n",
        "num_category = 3\n",
        "num_iter = 50"
      ],
      "metadata": {
        "id": "t5UCgoJqF4nw"
      },
      "execution_count": 25,
      "outputs": []
    },
    {
      "cell_type": "code",
      "source": [
        "def sumc(w,xi):\n",
        "  sumc = 0\n",
        "  for c in range(num_category):\n",
        "    sumc += np.exp(w[c]@xi.T)\n",
        "  return sumc\n",
        "\n",
        "def J(w):\n",
        "  J = 0\n",
        "  for c in range(num_category):\n",
        "    J += lam*w[c]@w[c].T\n",
        "  for i in range(n):\n",
        "    J += np.log(sumc(w,x_d5[i])) - w[y_d5[i]]@x_d5[i].T\n",
        "  return J\n",
        "\n",
        "def dJ(w):\n",
        "  dJ = 2*lam*w\n",
        "  for i in range(n):\n",
        "    for c in range(num_category):\n",
        "      post = np.exp(w[c]@x_d5[i].T) / sumc(w,x_d5[i])\n",
        "      if c == y_d5[i]:\n",
        "        dJ[c] += x_d5[i]*(post-1)\n",
        "      else:\n",
        "        dJ[c] += x_d5[i]*post\n",
        "  return dJ\n",
        "\n",
        "def d2J(w_t):\n",
        "  d2J = 2*lam*np.ones([3,5,5])\n",
        "  for i in range(n):\n",
        "    for c in range(num_category):\n",
        "      su = sumc(w,x_d5[i])\n",
        "      ex = np.exp(w[c]@x_d5[i].T)\n",
        "      d2J[c] += ((su*ex - ex*ex) / (su*su)) * x_d5[i].reshape(5,1)@x_d5[i].reshape(1,5)\n",
        "  return d2J"
      ],
      "metadata": {
        "id": "KNK8oyJ7F8Dl"
      },
      "execution_count": 26,
      "outputs": []
    },
    {
      "cell_type": "code",
      "source": [
        "loss_hist_batch = [] # to store the history of loss J(w_t)\n",
        "# implement batch steepest gradient method here\n",
        "w = np.zeros([3,5])\n",
        "lr = 0.01\n",
        "for t in range(num_iter):\n",
        "  loss = J(w)\n",
        "  dj = dJ(w)\n",
        "  w -= lr*dj\n",
        "  loss_hist_batch.append(loss)"
      ],
      "metadata": {
        "id": "byqeq2VGF-Jx"
      },
      "execution_count": 27,
      "outputs": []
    },
    {
      "cell_type": "code",
      "source": [
        "loss_hist_newton = [] # to store the history of loss J(w_t)\n",
        "\n",
        "# implement Newton based method here\n",
        "w = np.ones([3,5])\n",
        "lr = 0.7\n",
        "for t in range(1, num_iter+1):\n",
        "  loss = J(w)\n",
        "  dj = dJ(w)\n",
        "  d2j = d2J(w)\n",
        "  loss_hist_newton.append(loss)\n",
        "  for c in range(num_category):\n",
        "    w[c] -= lr*np.linalg.inv(d2j[c])@dj[c]"
      ],
      "metadata": {
        "id": "-POUaBI4GBLM"
      },
      "execution_count": 28,
      "outputs": []
    },
    {
      "cell_type": "code",
      "source": [
        "# plot the result of loss\n",
        "plt.plot(loss_hist_batch, 'bo-', linewidth=0.5, markersize=0.5, label='steepest')\n",
        "plt.plot(loss_hist_newton, 'ro-', linewidth=0.5, markersize=0.5, label='newton')\n",
        "plt.legend()\n",
        "plt.xlabel('iter')\n",
        "plt.ylabel('loss')"
      ],
      "metadata": {
        "colab": {
          "base_uri": "https://localhost:8080/",
          "height": 297
        },
        "id": "kIlfauQKH76Y",
        "outputId": "2098352b-68e7-4f79-950f-2b45dc81a4d0"
      },
      "execution_count": 29,
      "outputs": [
        {
          "output_type": "execute_result",
          "data": {
            "text/plain": [
              "Text(0, 0.5, 'loss')"
            ]
          },
          "metadata": {},
          "execution_count": 29
        },
        {
          "output_type": "display_data",
          "data": {
            "text/plain": [
              "<Figure size 432x288 with 1 Axes>"
            ],
            "image/png": "[encoded data removed]"
          },
          "metadata": {
            "needs_background": "light"
          }
        }
      ]
    },
    {
      "cell_type": "code",
      "source": [
        "# plot the result of diff\n",
        "loss_hat = min(loss_hist_batch[-1], loss_hist_newton[-1])\n",
        "plt.plot(abs(loss_hist_batch-loss_hat), 'bo-', linewidth=0.5, markersize=0.5, label='steepest')\n",
        "plt.plot(abs(loss_hist_newton-loss_hat), 'ro-', linewidth=0.5, markersize=0.5, label='newton')\n",
        "plt.legend()\n",
        "plt.yscale('log')"
      ],
      "metadata": {
        "colab": {
          "base_uri": "https://localhost:8080/",
          "height": 265
        },
        "id": "RQHZv6kJGCra",
        "outputId": "1df991eb-ed56-497d-ee69-159b206f4872"
      },
      "execution_count": 30,
      "outputs": [
        {
          "output_type": "display_data",
          "data": {
            "text/plain": [
              "<Figure size 432x288 with 1 Axes>"
            ],
            "image/png": "[encoded data removed]"
          },
          "metadata": {
            "needs_background": "light"
          }
        }
      ]
    }
  ]
}
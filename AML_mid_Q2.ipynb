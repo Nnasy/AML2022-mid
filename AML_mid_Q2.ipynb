{
  "nbformat": 4,
  "nbformat_minor": 0,
  "metadata": {
    "colab": {
      "name": "AML-mid Q2.ipynb",
      "provenance": [],
      "collapsed_sections": []
    },
    "kernelspec": {
      "name": "python3",
      "display_name": "Python 3"
    },
    "language_info": {
      "name": "python"
    }
  },
  "cells": [
    {
      "cell_type": "markdown",
      "metadata": {
        "id": "9chhWc7rED2V"
      },
      "source": [
        "# Problem 2"
      ]
    },
    {
      "cell_type": "code",
      "source": [
        "# requirement\n",
        "import numpy as np\n",
        "import matplotlib.pyplot as plt\n",
        "import cvxpy as cv"
      ],
      "metadata": {
        "id": "a4Pbz4BZJB76"
      },
      "execution_count": 36,
      "outputs": []
    },
    {
      "cell_type": "code",
      "metadata": {
        "id": "VN3vN0ddEKfq"
      },
      "source": [
        "# condition\n",
        "A = np.array([[  3, 0.5],\n",
        "              [0.5,   1]])\n",
        "mu = np.array([[1],\n",
        "               [2]])"
      ],
      "execution_count": 37,
      "outputs": []
    },
    {
      "cell_type": "code",
      "source": [
        "# learning rate\n",
        "L = np.max(np.linalg.eig(2*A)[0])\n",
        "lr = 1/L"
      ],
      "metadata": {
        "id": "D5BYYyURrzCB"
      },
      "execution_count": 38,
      "outputs": []
    },
    {
      "cell_type": "code",
      "source": [
        "# 参考：https://colab.research.google.com/drive/1cqbDTKIgkMElBuPlpjhvXWQpn2RfsvV1#scrollTo=C1MODsFayjMD\n",
        "def st_ops(v, q):\n",
        "  x = np.zeros(v.shape)\n",
        "  for i in range(len(v)):\n",
        "    if v[i] > q:\n",
        "      x[i] = v[i] - q\n",
        "    else:\n",
        "      if np.abs(v[i]) < q:\n",
        "        x[i] = 0\n",
        "      else:\n",
        "        x[i] = v[i] + q; \n",
        "  return x"
      ],
      "metadata": {
        "id": "KB9nNl4qqnqz"
      },
      "execution_count": 39,
      "outputs": []
    },
    {
      "cell_type": "code",
      "metadata": {
        "id": "PuA6fscyEhjC",
        "colab": {
          "base_uri": "https://localhost:8080/"
        },
        "outputId": "775974c1-a79a-4947-ce03-b896ab572c19"
      },
      "source": [
        "w_hat_lam = []\n",
        "lams = np.arange(2, 8, 2) # lam = 2,4,6\n",
        "num_iter = 50\n",
        "\n",
        "w = np.zeros([2,1])\n",
        "for lam in lams:\n",
        "  ### implement PG ###\n",
        "  for _ in range(num_iter):\n",
        "    grad = 2 * A@(w-mu)\n",
        "    v = w - lr * grad\n",
        "    w = st_ops(v, lam * lr)\n",
        "  w_hat = w\n",
        "  w_hat_lam.append(w_hat.squeeze())\n",
        "  print(\"lambda is\", lam, \"    w_hat is\", w_hat.T)\n",
        "  ###"
      ],
      "execution_count": 40,
      "outputs": [
        {
          "output_type": "stream",
          "name": "stdout",
          "text": [
            "lambda is 2     w_hat is [[0.81818183 1.09090904]]\n",
            "lambda is 4     w_hat is [[0.63636362 0.18181823]]\n",
            "lambda is 6     w_hat is [[0.33333333 0.        ]]\n"
          ]
        }
      ]
    },
    {
      "cell_type": "code",
      "source": [
        "# result of PG\n",
        "for i in range(len(lams)):\n",
        "  lam = lams[i]\n",
        "  norm = []\n",
        "  for j in range(num_iter):\n",
        "    grad = 2 * A@(w-mu)\n",
        "    v = w - lr * grad\n",
        "    w = st_ops(v, lam * lr)\n",
        "    norm.append(np.linalg.norm(w-w_hat_lam[i]))\n",
        "  plt.plot(norm, 'o-', linewidth=0.5, markersize=0.5, label='lam = '+str(lam))\n",
        "plt.legend()\n",
        "plt.xlabel('iter')\n",
        "plt.ylabel('diff of w-w^')\n",
        "plt.yscale('log')"
      ],
      "metadata": {
        "colab": {
          "base_uri": "https://localhost:8080/",
          "height": 279
        },
        "id": "hU19yhnHOzxH",
        "outputId": "dced6d0c-525f-4107-ba51-4a2ad722e919"
      },
      "execution_count": 41,
      "outputs": [
        {
          "output_type": "display_data",
          "data": {
            "text/plain": [
              "<Figure size 432x288 with 1 Axes>"
            ],
            "image/png": "[encoded data removed]"
          },
          "metadata": {
            "needs_background": "light"
          }
        }
      ]
    }
  ]
}